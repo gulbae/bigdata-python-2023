{
 "cells": [
  {
   "attachments": {},
   "cell_type": "markdown",
   "metadata": {},
   "source": [
    "# 주피터 노트북 기본\n",
    "\n",
    "## 셀 추가/삭제\n",
    "- 코드버튼 클릭 - Python 코드 셀 추가\n",
    "- Markdown버튼 클릭 = 마크다운 셀 추가"
   ]
  },
  {
   "cell_type": "code",
   "execution_count": 1,
   "metadata": {},
   "outputs": [
    {
     "name": "stdout",
     "output_type": "stream",
     "text": [
      "Hello, Python!\n"
     ]
    }
   ],
   "source": [
    "print('Hello, Python!')"
   ]
  },
  {
   "attachments": {},
   "cell_type": "markdown",
   "metadata": {},
   "source": [
    "## 일반출력\n",
    "```python\n",
    "print('Hello, python!') # 마크다운 코드추가"
   ]
  },
  {
   "cell_type": "code",
   "execution_count": 2,
   "metadata": {},
   "outputs": [
    {
     "name": "stdout",
     "output_type": "stream",
     "text": [
      "Hi~\n"
     ]
    }
   ],
   "source": [
    "print('Hi~')"
   ]
  },
  {
   "attachments": {},
   "cell_type": "markdown",
   "metadata": {},
   "source": [
    "### 이미지 추가\n",
    "**너무** *귀여워*   \n",
    "<img src=\"https://blog.kakaocdn.net/dn/bEQNqy/btqGfMgXlp2/J4t2RSahhvG55otCINBSc1/img.jpg\" width=\"400\" height=\"300\">\n",
    "<img src=\"https://www.kukinews.com/data/kuk/image/2021/07/20/kuk202107200240.620x.0.jpg\" width=\"400\" height=\"300\">\n",
    "<img src=\"https://cdn.hellodd.com/news/photo/202005/71835_craw1.jpg\" width=\"400\" height=\"300\">\n",
    "<img src=\"https://i.namu.wiki/i/Bs2uo1QQ601qUx_fGBzQL4Ea22LDB_7BMipwfkBJfd-MtDqH0WmhMcIoggW4Eqdj_Ebqsn7rr3GsTxsdg9HWOHrIZa5xGiTLpPTmc1x4gfmkcxu2bajJYJe3Q77YmfMmc6JoZLQgXWtD-QrGTte6AQ.webp\" width=\"400\" height=\"300\">\n",
    "\n",
    "---\n",
    "\n",
    "|제목|내용|비고|\n",
    "|:-----|------------:|:----:|\n",
    "|제목1|내용1|비고1|\n",
    "|제목1|내용1|비고1|\n",
    "|제목3|내용1|비고1|\n",
    "|제목4|내용입니다4|비고41234|\n"
   ]
  },
  {
   "attachments": {},
   "cell_type": "markdown",
   "metadata": {},
   "source": [
    "### 출력초과 문제 해결\n",
    "\n",
    "콘솔이나 주피터 셀출력 전체가 다 안나오는 현상(성능적 문제때문에 제약)"
   ]
  },
  {
   "cell_type": "code",
   "execution_count": null,
   "metadata": {},
   "outputs": [],
   "source": [
    "import pandas as pd "
   ]
  }
 ],
 "metadata": {
  "kernelspec": {
   "display_name": "Python 3",
   "language": "python",
   "name": "python3"
  },
  "language_info": {
   "codemirror_mode": {
    "name": "ipython",
    "version": 3
   },
   "file_extension": ".py",
   "mimetype": "text/x-python",
   "name": "python",
   "nbconvert_exporter": "python",
   "pygments_lexer": "ipython3",
   "version": "3.11.4"
  },
  "orig_nbformat": 4,
  "vscode": {
   "interpreter": {
    "hash": "5238573367df39f7286bb46f9ff5f08f63a01a80960060ce41e3c79b190280fa"
   }
  }
 },
 "nbformat": 4,
 "nbformat_minor": 2
}
